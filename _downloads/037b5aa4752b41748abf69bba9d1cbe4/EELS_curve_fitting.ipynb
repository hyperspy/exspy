{
  "cells": [
    {
      "cell_type": "markdown",
      "metadata": {},
      "source": [
        "\n# EELS curve fitting\n\nPerforms curve fitting to an EELS spectrum, plots the result and saves it as\npng file.\n"
      ]
    },
    {
      "cell_type": "code",
      "execution_count": null,
      "metadata": {
        "collapsed": false
      },
      "outputs": [],
      "source": [
        "import hyperspy.api as hs\n\ns = hs.load(\"coreloss_spectrum.msa\", signal_type=\"EELS\")\nlow_loss = hs.load(\"lowloss_spectrum.msa\", signal_type=\"EELS\")\n\ns.add_elements((\"Mn\", \"O\"))\ns.set_microscope_parameters(\n    beam_energy=300, convergence_angle=24.6, collection_angle=13.6\n)\n\nm = s.create_model(low_loss=low_loss)\nm.enable_fine_structure()\nm.multifit(kind=\"smart\")\nm.plot()\n\n# one can also use the Dirac GOS by specifying the GOS parameter\nm = s.create_model(low_loss=low_loss, GOS=\"dirac\")\nm.enable_fine_structure()\nm.multifit(kind=\"smart\")\nm.plot()"
      ]
    }
  ],
  "metadata": {
    "kernelspec": {
      "display_name": "Python 3",
      "language": "python",
      "name": "python3"
    },
    "language_info": {
      "codemirror_mode": {
        "name": "ipython",
        "version": 3
      },
      "file_extension": ".py",
      "mimetype": "text/x-python",
      "name": "python",
      "nbconvert_exporter": "python",
      "pygments_lexer": "ipython3",
      "version": "3.12.11"
    }
  },
  "nbformat": 4,
  "nbformat_minor": 0
}