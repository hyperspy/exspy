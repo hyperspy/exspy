{
  "cells": [
    {
      "cell_type": "markdown",
      "metadata": {},
      "source": [
        "\n# Simple arctan fit\n\nFit an arctan function.\n"
      ]
    },
    {
      "cell_type": "code",
      "execution_count": null,
      "metadata": {
        "collapsed": false
      },
      "outputs": [],
      "source": [
        "import numpy as np\nimport hyperspy.api as hs\n\n# Generate the data and make the spectrum\ndata = np.arctan(np.arange(-500, 500))\ns = hs.signals.Signal1D(data)\ns.axes_manager[0].offset = -500\ns.axes_manager[0].units = \"\"\ns.axes_manager[0].name = \"x\"\ns.metadata.General.title = \"Simple arctan fit\"\ns.set_signal_origin(\"simulation\")\n\ns.add_gaussian_noise(0.1)\n\n# Make the arctan component for use in the model\narctan_component = hs.model.components1D.Arctan()\n\n# Create the model and add the arctan component\nm = s.create_model()\nm.append(arctan_component)\n\n# Fit the arctan component to the spectrum\nm.fit()\n\n# Print the result of the fit\nm.print_current_values()\n\n# Plot the spectrum and the model fitting\nm.plot()"
      ]
    }
  ],
  "metadata": {
    "kernelspec": {
      "display_name": "Python 3",
      "language": "python",
      "name": "python3"
    },
    "language_info": {
      "codemirror_mode": {
        "name": "ipython",
        "version": 3
      },
      "file_extension": ".py",
      "mimetype": "text/x-python",
      "name": "python",
      "nbconvert_exporter": "python",
      "pygments_lexer": "ipython3",
      "version": "3.11.10"
    }
  },
  "nbformat": 4,
  "nbformat_minor": 0
}